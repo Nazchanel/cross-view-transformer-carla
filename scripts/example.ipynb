{
 "cells": [
  {
   "attachments": {},
   "cell_type": "markdown",
   "metadata": {},
   "source": [
    "## **Demo Notebook**\n",
    "\n",
    "This quick notebook will show how to\n",
    "\n",
    "* load config\n",
    "* create the dataset\n",
    "* make a model\n",
    "* load pretrained weights\n",
    "\n",
    "This notebook should be run directly from the `scripts/` directory."
   ]
  },
  {
   "attachments": {},
   "cell_type": "markdown",
   "metadata": {},
   "source": [
    "### **Config**\n",
    "\n",
    "Make sure to change the following paths\n",
    "* `DATASET_DIR`\n",
    "* `LABELS_DIR`"
   ]
  },
  {
   "cell_type": "code",
   "execution_count": 1,
   "metadata": {},
   "outputs": [
    {
     "name": "stdout",
     "output_type": "stream",
     "text": [
      "['experiment', 'loader', 'optimizer', 'scheduler', 'trainer', 'model', 'data', 'visualization', 'loss', 'metrics']\n"
     ]
    },
    {
     "name": "stderr",
     "output_type": "stream",
     "text": [
      "/tmp/ipykernel_1994907/897686792.py:15: UserWarning: \n",
      "The version_base parameter is not specified.\n",
      "Please specify a compatability version level, or None.\n",
      "Will assume defaults for version 1.1\n",
      "  initialize(config_path='../config')\n"
     ]
    }
   ],
   "source": [
    "from hydra import core, initialize, compose\n",
    "from omegaconf import OmegaConf\n",
    "import torch\n",
    "\n",
    "device = torch.device('cuda:0')\n",
    "\n",
    "\n",
    "# CHANGE ME\n",
    "DATASET_DIR = '/shares/datasets/nuscenes/v1.0-trainval'\n",
    "LABELS_DIR = '/shares/datasets/cvt_labels_nuscenes'\n",
    "\n",
    "\n",
    "core.global_hydra.GlobalHydra.instance().clear()        # required for Hydra in notebooks\n",
    "\n",
    "initialize(config_path='../config')\n",
    "\n",
    "# Add additional command line overrides\n",
    "cfg = compose(\n",
    "    config_name='config',\n",
    "    overrides=[\n",
    "        'experiment.save_dir=../logs/',                 # required for Hydra in notebooks\n",
    "        '+experiment=cvt_nuscenes_vehicle',\n",
    "        f'data.dataset_dir={DATASET_DIR}',\n",
    "        f'data.labels_dir={LABELS_DIR}',\n",
    "        'data.version=v1.0-trainval',\n",
    "        'loader.batch_size=1',\n",
    "    ]\n",
    ")\n",
    "\n",
    "# resolve config references\n",
    "OmegaConf.resolve(cfg)\n",
    "\n",
    "print(list(cfg.keys()))"
   ]
  },
  {
   "cell_type": "code",
   "execution_count": 2,
   "metadata": {},
   "outputs": [
    {
     "data": {
      "text/plain": [
       "True"
      ]
     },
     "execution_count": 2,
     "metadata": {},
     "output_type": "execute_result"
    }
   ],
   "source": [
    "torch.cuda.is_available()"
   ]
  },
  {
   "attachments": {},
   "cell_type": "markdown",
   "metadata": {},
   "source": [
    "### **Dataset Setup**"
   ]
  },
  {
   "cell_type": "code",
   "execution_count": 14,
   "metadata": {},
   "outputs": [
    {
     "name": "stdout",
     "output_type": "stream",
     "text": [
      "Loaded pretrained weights for efficientnet-b4\n",
      "49\n"
     ]
    }
   ],
   "source": [
    "import torch\n",
    "import numpy as np\n",
    "\n",
    "from cross_view_transformer.common import setup_experiment, load_backbone\n",
    "\n",
    "\n",
    "# Additional splits can be added to cross_view_transformer/data/splits/nuscenes/\n",
    "SPLIT = 'val_qualitative_000'\n",
    "SUBSAMPLE = 5\n",
    "\n",
    "\n",
    "model, data, viz = setup_experiment(cfg)\n",
    "\n",
    "dataset = data.get_split(SPLIT, loader=False)\n",
    "dataset = torch.utils.data.ConcatDataset(dataset)\n",
    "dataset = torch.utils.data.Subset(dataset, range(0, len(dataset), SUBSAMPLE))\n",
    "\n",
    "loader = torch.utils.data.DataLoader(dataset, batch_size=4, shuffle=False, num_workers=2)\n",
    "\n",
    "print(len(dataset))"
   ]
  },
  {
   "cell_type": "code",
   "execution_count": 15,
   "metadata": {},
   "outputs": [],
   "source": [
    "current = next(iter(loader))"
   ]
  },
  {
   "cell_type": "code",
   "execution_count": 17,
   "metadata": {},
   "outputs": [
    {
     "data": {
      "text/plain": [
       "torch.Size([4, 12, 200, 200])"
      ]
     },
     "execution_count": 17,
     "metadata": {},
     "output_type": "execute_result"
    }
   ],
   "source": [
    "current['bev'].shape  "
   ]
  },
  {
   "attachments": {},
   "cell_type": "markdown",
   "metadata": {},
   "source": [
    "### **Network Setup**"
   ]
  },
  {
   "cell_type": "code",
   "execution_count": 5,
   "metadata": {},
   "outputs": [
    {
     "name": "stdout",
     "output_type": "stream",
     "text": [
      "--2023-06-14 15:26:03--  https://www.cs.utexas.edu/~bzhou/cvt/cvt_nuscenes_vehicles_50k.ckpt\n",
      "Loaded CA certificate '/etc/ssl/certs/ca-certificates.crt'\n",
      "Resolving www.cs.utexas.edu (www.cs.utexas.edu)... 128.83.120.48\n",
      "Connecting to www.cs.utexas.edu (www.cs.utexas.edu)|128.83.120.48|:443... connected.\n",
      "HTTP request sent, awaiting response... 200 OK\n",
      "Length: 13407137 (13M)\n",
      "Saving to: ‘../logs/cvt_nuscenes_vehicles_50k.ckpt’\n",
      "\n",
      "../logs/cvt_nuscene 100%[===================>]  12.79M  84.7MB/s    in 0.2s    \n",
      "\n",
      "2023-06-14 15:26:03 (84.7 MB/s) - ‘../logs/cvt_nuscenes_vehicles_50k.ckpt’ saved [13407137/13407137]\n",
      "\n",
      "Loaded pretrained weights for efficientnet-b4\n"
     ]
    }
   ],
   "source": [
    "from pathlib import Path\n",
    "\n",
    "# Download a pretrained model (13 Mb)\n",
    "MODEL_URL = 'https://www.cs.utexas.edu/~bzhou/cvt/cvt_nuscenes_vehicles_50k.ckpt'\n",
    "CHECKPOINT_PATH = '../logs/cvt_nuscenes_vehicles_50k.ckpt'\n",
    "\n",
    "!wget $MODEL_URL -O $CHECKPOINT_PATH\n",
    "\n",
    "\n",
    "if Path(CHECKPOINT_PATH).exists():\n",
    "    network = load_backbone(CHECKPOINT_PATH)\n",
    "else:\n",
    "    network = model.backbone\n",
    "\n",
    "    print(f'{CHECKPOINT_PATH} not found. Using randomly initialized weights.')"
   ]
  },
  {
   "attachments": {},
   "cell_type": "markdown",
   "metadata": {},
   "source": [
    "### **Run the Model**\n",
    "\n",
    "This cell will save the model predictions and render them as a gif.\n",
    "\n",
    "Note: colors will be ugly since gif only supports 256 colors total"
   ]
  },
  {
   "cell_type": "code",
   "execution_count": 6,
   "metadata": {},
   "outputs": [],
   "source": [
    "# load IOU metric\n",
    "from cross_view_transformer.metrics import IoUMetric\n",
    "\n",
    "iou_config = OmegaConf.load('/home/dxa230028/Documents/cross_view_transformer/config/data/nuscenes_vehicle.yaml')\n",
    "\n",
    "iou_metric = IoUMetric(label_indices=iou_config['data']['label_indices']).to(device)\n"
   ]
  },
  {
   "cell_type": "code",
   "execution_count": 8,
   "metadata": {},
   "outputs": [
    {
     "name": "stdout",
     "output_type": "stream",
     "text": [
      "IOU Metric Value for threshold 0.40: 37.701858671344056\n",
      "IOU Metric Value for threshold 0.50: 33.51586375917707\n"
     ]
    }
   ],
   "source": [
    "import torch\n",
    "import time\n",
    "import imageio\n",
    "import ipywidgets as widgets\n",
    "\n",
    "GIF_PATH = './predictions.gif'\n",
    "\n",
    "network.to(device)\n",
    "network.eval()\n",
    "\n",
    "images = list()\n",
    "\n",
    "iou_metric.reset()\n",
    "\n",
    "\n",
    "total_0_40_iou = 0\n",
    "total_0_50_iou = 0\n",
    "\n",
    "with torch.no_grad():\n",
    "    for batch in loader:\n",
    "        batch = {k: v.to(device) if isinstance(v, torch.Tensor) else v for k, v in batch.items()}\n",
    "        pred = network(batch)['bev'].to(device)\n",
    "        \n",
    "        iou_metric.update(pred, batch)\n",
    "        \n",
    "        total_0_40_iou += iou_metric.compute()['@0.40']\n",
    "        total_0_50_iou += iou_metric.compute()['@0.50']\n",
    "        \n",
    "        # visualization = np.vstack(viz(batch=batch, pred=pred))\n",
    "        # images.append(visualization)\n",
    "\n",
    "average_0_40_iou = total_0_40_iou / len(dataset)\n",
    "average_0_50_iou = total_0_50_iou / len(dataset)\n",
    "\n",
    "print(f\"IOU Metric Value for threshold 0.40: {average_0_40_iou * 100}\")\n",
    "print(f\"IOU Metric Value for threshold 0.50: {average_0_50_iou * 100}\")\n",
    "\n",
    "# # Save a gif\n",
    "# duration = [1 for _ in images[:-1]] + [5 for _ in images[-1:]]\n",
    "# imageio.mimsave(GIF_PATH, images, duration=duration)\n",
    "\n",
    "# html = f'''\n",
    "# <div align=\"center\">\n",
    "# <img src=\"{GIF_PATH}?modified={time.time()}\" width=\"80%\">\n",
    "# </div>\n",
    "# '''\n",
    "\n",
    "# display(widgets.HTML(html))"
   ]
  },
  {
   "cell_type": "code",
   "execution_count": null,
   "metadata": {},
   "outputs": [],
   "source": []
  }
 ],
 "metadata": {
  "interpreter": {
   "hash": "b5f5dfcf6d7848e0c3dac37df27b69d0d5f79a0c0f03f8729db3afb13fab9666"
  },
  "kernelspec": {
   "display_name": "Python 3.8.12 ('bev_transformer_release')",
   "language": "python",
   "name": "python3"
  },
  "language_info": {
   "codemirror_mode": {
    "name": "ipython",
    "version": 3
   },
   "file_extension": ".py",
   "mimetype": "text/x-python",
   "name": "python",
   "nbconvert_exporter": "python",
   "pygments_lexer": "ipython3",
   "version": "3.10.11"
  },
  "orig_nbformat": 4
 },
 "nbformat": 4,
 "nbformat_minor": 2
}
