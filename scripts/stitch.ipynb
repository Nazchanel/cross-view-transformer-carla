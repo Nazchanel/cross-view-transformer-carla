{
 "cells": [
  {
   "cell_type": "code",
   "execution_count": 3,
   "metadata": {},
   "outputs": [
    {
     "name": "stdout",
     "output_type": "stream",
     "text": [
      "['experiment', 'loader', 'optimizer', 'scheduler', 'trainer', 'data', 'loss', 'metrics']\n"
     ]
    },
    {
     "name": "stderr",
     "output_type": "stream",
     "text": [
      "/tmp/ipykernel_2962660/3602709400.py:12: UserWarning: \n",
      "The version_base parameter is not specified.\n",
      "Please specify a compatability version level, or None.\n",
      "Will assume defaults for version 1.1\n",
      "  initialize(config_path='../config')\n"
     ]
    }
   ],
   "source": [
    "from hydra import core, initialize, compose\n",
    "from omegaconf import OmegaConf\n",
    "\n",
    "\n",
    "# CHANGE ME\n",
    "DATASET_DIR = '/shares/datasets/nuscenes/v1.0-trainval'\n",
    "LABELS_DIR = '/shares/datasets/cvt_labels_nuscenes'\n",
    "\n",
    "\n",
    "core.global_hydra.GlobalHydra.instance().clear()        # required for Hydra in notebooks\n",
    "\n",
    "initialize(config_path='../config')\n",
    "\n",
    "# Add additional command line overrides\n",
    "cfg = compose(\n",
    "    config_name='config',\n",
    "    overrides=[\n",
    "        'experiment.save_dir=../logs/',                 # required for Hydra in notebooks\n",
    "        'data=nuscenes',\n",
    "        f'data.dataset_dir={DATASET_DIR}',\n",
    "        f'data.labels_dir={LABELS_DIR}',\n",
    "        'data.version=v1.0-trainval',\n",
    "        'loader.batch_size=1',\n",
    "    ]\n",
    ")\n",
    "\n",
    "# resolve config references\n",
    "OmegaConf.resolve(cfg)\n",
    "\n",
    "print(list(cfg.keys()))"
   ]
  },
  {
   "cell_type": "code",
   "execution_count": 11,
   "metadata": {},
   "outputs": [
    {
     "name": "stdout",
     "output_type": "stream",
     "text": [
      "25\n"
     ]
    }
   ],
   "source": [
    "import torch\n",
    "import numpy as np\n",
    "\n",
    "from cross_view_transformer.common import setup_data_module\n",
    "\n",
    "\n",
    "# Additional splits can be added to cross_view_transformer/data/splits/nuscenes/\n",
    "SPLIT = 'val_qualitative_000'\n",
    "SUBSAMPLE = 10\n",
    "\n",
    "\n",
    "data = setup_data_module(cfg)\n",
    "\n",
    "dataset = data.get_split(SPLIT, loader=False)\n",
    "dataset = torch.utils.data.ConcatDataset(dataset)\n",
    "dataset = torch.utils.data.Subset(dataset, range(0, len(dataset), SUBSAMPLE))\n",
    "\n",
    "loader = torch.utils.data.DataLoader(dataset, batch_size=1, shuffle=False, num_workers=2)\n",
    "\n",
    "print(len(dataset))"
   ]
  },
  {
   "cell_type": "code",
   "execution_count": 5,
   "metadata": {},
   "outputs": [
    {
     "name": "stdout",
     "output_type": "stream",
     "text": [
      "--2023-06-14 15:21:50--  https://www.cs.utexas.edu/~bzhou/cvt/cvt_nuscenes_vehicles_50k.ckpt\n",
      "Loaded CA certificate '/etc/ssl/certs/ca-certificates.crt'\n",
      "Resolving www.cs.utexas.edu (www.cs.utexas.edu)... 128.83.120.48\n",
      "Connecting to www.cs.utexas.edu (www.cs.utexas.edu)|128.83.120.48|:443... connected.\n",
      "HTTP request sent, awaiting response... 200 OK\n",
      "Length: 13407137 (13M)\n",
      "Saving to: ‘../logs/cvt_nuscenes_vehicles_50k.ckpt’\n",
      "\n",
      "../logs/cvt_nuscene 100%[===================>]  12.79M  83.6MB/s    in 0.2s    \n",
      "\n",
      "2023-06-14 15:21:50 (83.6 MB/s) - ‘../logs/cvt_nuscenes_vehicles_50k.ckpt’ saved [13407137/13407137]\n",
      "\n",
      "--2023-06-14 15:21:50--  https://www.cs.utexas.edu/~bzhou/cvt/cvt_nuscenes_road_75k.ckpt\n",
      "Loaded CA certificate '/etc/ssl/certs/ca-certificates.crt'\n",
      "Resolving www.cs.utexas.edu (www.cs.utexas.edu)... 128.83.120.48\n",
      "Connecting to www.cs.utexas.edu (www.cs.utexas.edu)|128.83.120.48|:443... connected.\n",
      "HTTP request sent, awaiting response... 200 OK\n",
      "Length: 13402145 (13M)\n",
      "Saving to: ‘../logs/cvt_nuscenes_road_75k.ckpt’\n",
      "\n",
      "../logs/cvt_nuscene 100%[===================>]  12.78M  83.5MB/s    in 0.2s    \n",
      "\n",
      "2023-06-14 15:21:51 (83.5 MB/s) - ‘../logs/cvt_nuscenes_road_75k.ckpt’ saved [13402145/13402145]\n",
      "\n",
      "Loaded pretrained weights for efficientnet-b4\n",
      "Loaded pretrained weights for efficientnet-b4\n"
     ]
    }
   ],
   "source": [
    "from pathlib import Path\n",
    "\n",
    "from cross_view_transformer.common import load_backbone\n",
    "\n",
    "\n",
    "# Download a pretrained model (13 Mb)\n",
    "VEHICLE_MODEL_URL = 'https://www.cs.utexas.edu/~bzhou/cvt/cvt_nuscenes_vehicles_50k.ckpt'\n",
    "VEHICLE_CHECKPOINT_PATH = '../logs/cvt_nuscenes_vehicles_50k.ckpt'\n",
    "\n",
    "ROAD_MODEL_URL = 'https://www.cs.utexas.edu/~bzhou/cvt/cvt_nuscenes_road_75k.ckpt'\n",
    "ROAD_CHECKPOINT_PATH = '../logs/cvt_nuscenes_road_75k.ckpt'\n",
    "\n",
    "!mkdir -p $(dirname ${VEHICLE_CHECKPOINT_PATH})\n",
    "!wget $VEHICLE_MODEL_URL -O $VEHICLE_CHECKPOINT_PATH\n",
    "!wget $ROAD_MODEL_URL -O $ROAD_CHECKPOINT_PATH\n",
    "\n",
    "\n",
    "vehicle_network = load_backbone(VEHICLE_CHECKPOINT_PATH)\n",
    "road_network = load_backbone(ROAD_CHECKPOINT_PATH)"
   ]
  },
  {
   "cell_type": "code",
   "execution_count": 8,
   "metadata": {},
   "outputs": [],
   "source": [
    "# load IOU metric\n",
    "from cross_view_transformer.metrics import IoUMetric\n",
    "\n",
    "device = torch.device('cuda:0' if torch.cuda.is_available() else 'cpu')\n",
    "\n",
    "# get information about metrics from config files\n",
    "iou_vehicle_config = OmegaConf.load('/home/dxa230028/Documents/cross_view_transformer/config/data/nuscenes_vehicle.yaml')\n",
    "iou_road_config = OmegaConf.load('/home/dxa230028/Documents/cross_view_transformer/config/data/nuscenes_road.yaml')\n",
    "\n",
    "iou_vehicle_metric = IoUMetric(label_indices=iou_vehicle_config['data']['label_indices']).to(device)\n",
    "iou_road_metric = IoUMetric(label_indices=iou_road_config['data']['label_indices']).to(device)\n",
    "\n"
   ]
  },
  {
   "cell_type": "code",
   "execution_count": 9,
   "metadata": {},
   "outputs": [
    {
     "name": "stdout",
     "output_type": "stream",
     "text": [
      "Vehicle IOU Metric Value for threshold 0.40: 38.937167167663574\n",
      "Vehicle IOU Metric Value for threshold 0.50: 34.8044193983078\n",
      "Road IOU Metric Value for threshold 0.40: 82.86128187179565\n",
      "Road IOU Metric Value for threshold 0.50: 82.68776774406433\n"
     ]
    }
   ],
   "source": [
    "%load_ext autoreload\n",
    "%autoreload 2\n",
    "\n",
    "import torch\n",
    "import time\n",
    "import imageio\n",
    "import ipywidgets as widgets\n",
    "\n",
    "from cross_view_transformer.visualizations.nuscenes_stitch_viz import NuScenesStitchViz\n",
    "\n",
    "\n",
    "GIF_PATH = './predictions.gif'\n",
    "\n",
    "# Show more confident predictions, note that if show_images is True, GIF quality with be degraded.\n",
    "viz = NuScenesStitchViz(vehicle_threshold=0.6, road_threshold=0.6, show_images=False)\n",
    "\n",
    "vehicle_network.to(device)\n",
    "vehicle_network.eval()\n",
    "\n",
    "road_network.to(device)\n",
    "road_network.eval()\n",
    "\n",
    "images = list()\n",
    "\n",
    "iou_vehicle_metric.reset()\n",
    "iou_road_metric.reset()\n",
    "\n",
    "total_vehicle_040_iou = 0\n",
    "total_vehicle_050_iou = 0\n",
    "total_road_040_iou = 0\n",
    "total_road_050_iou = 0\n",
    "\n",
    "with torch.no_grad():\n",
    "    for batch in loader:\n",
    "        batch = {k: v.to(device) if isinstance(v, torch.Tensor) else v for k, v in batch.items()}\n",
    "\n",
    "        \n",
    "        # update vehicle iou\n",
    "        vehicle_pred = vehicle_network(batch)['bev'].to(device)\n",
    "        iou_vehicle_metric.update(vehicle_pred, batch)\n",
    "        total_vehicle_040_iou += iou_vehicle_metric.compute()['@0.40']\n",
    "        total_vehicle_050_iou += iou_vehicle_metric.compute()['@0.50']\n",
    "        \n",
    "        # update road iou\n",
    "        road_pred = road_network(batch)['bev'].to(device)\n",
    "        iou_road_metric.update(road_pred, batch)\n",
    "        total_road_040_iou += iou_road_metric.compute()['@0.40']\n",
    "        total_road_050_iou += iou_road_metric.compute()['@0.50']\n",
    "        \n",
    "        \n",
    "\n",
    "        # visualization = np.vstack(viz(batch, road_pred, vehicle_pred))\n",
    "\n",
    "        # images.append(visualization)\n",
    "\n",
    "\n",
    "average_vehicle_040_iou = total_vehicle_040_iou / len(dataset)\n",
    "average_vehicle_050_iou = total_vehicle_050_iou / len(dataset)\n",
    "average_road_040_iou = total_road_040_iou / len(dataset)\n",
    "average_road_050_iou = total_road_050_iou / len(dataset)\n",
    "\n",
    "print(f\"Vehicle IOU Metric Value for threshold 0.40: {average_vehicle_040_iou * 100}\")\n",
    "print(f\"Vehicle IOU Metric Value for threshold 0.50: {average_vehicle_050_iou * 100}\")\n",
    "print(f\"Road IOU Metric Value for threshold 0.40: {average_road_040_iou * 100}\")\n",
    "print(f\"Road IOU Metric Value for threshold 0.50: {average_road_050_iou * 100}\")\n",
    "\n",
    "\n",
    "# Save a gif\n",
    "# duration = [0.5 for _ in images[:-1]] + [2 for _ in images[-1:]]\n",
    "# imageio.mimsave(GIF_PATH, images, duration=duration)\n",
    "\n",
    "# html = f'''\n",
    "# <div align=\"center\">\n",
    "# <img src=\"{GIF_PATH}?modified={time.time()}\" width=\"80%\">\n",
    "# </div>\n",
    "# '''\n",
    "\n",
    "# display(widgets.HTML(html))"
   ]
  }
 ],
 "metadata": {
  "interpreter": {
   "hash": "b5f5dfcf6d7848e0c3dac37df27b69d0d5f79a0c0f03f8729db3afb13fab9666"
  },
  "kernelspec": {
   "display_name": "Python 3.8.12 ('bev_transformer_release')",
   "language": "python",
   "name": "python3"
  },
  "language_info": {
   "codemirror_mode": {
    "name": "ipython",
    "version": 3
   },
   "file_extension": ".py",
   "mimetype": "text/x-python",
   "name": "python",
   "nbconvert_exporter": "python",
   "pygments_lexer": "ipython3",
   "version": "3.11.4"
  },
  "orig_nbformat": 4
 },
 "nbformat": 4,
 "nbformat_minor": 2
}
