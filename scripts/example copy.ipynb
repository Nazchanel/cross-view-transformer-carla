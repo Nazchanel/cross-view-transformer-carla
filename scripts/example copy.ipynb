{
 "cells": [
  {
   "attachments": {},
   "cell_type": "markdown",
   "metadata": {},
   "source": [
    "## **Demo Notebook**\n",
    "\n",
    "This quick notebook will show how to\n",
    "\n",
    "* load config\n",
    "* create the dataset\n",
    "* make a model\n",
    "* load pretrained weights\n",
    "\n",
    "This notebook should be run directly from the `scripts/` directory."
   ]
  },
  {
   "attachments": {},
   "cell_type": "markdown",
   "metadata": {},
   "source": [
    "### **Config**\n",
    "\n",
    "Make sure to change the following paths\n",
    "* `DATASET_DIR`\n",
    "* `LABELS_DIR`"
   ]
  },
  {
   "cell_type": "code",
   "execution_count": 1,
   "metadata": {},
   "outputs": [
    {
     "name": "stdout",
     "output_type": "stream",
     "text": [
      "['experiment', 'loader', 'optimizer', 'scheduler', 'trainer', 'model', 'data', 'loss', 'metrics']\n"
     ]
    },
    {
     "name": "stderr",
     "output_type": "stream",
     "text": [
      "/tmp/ipykernel_3236370/171547621.py:9: UserWarning: \n",
      "The version_base parameter is not specified.\n",
      "Please specify a compatability version level, or None.\n",
      "Will assume defaults for version 1.1\n",
      "  initialize(config_path='../config')\n"
     ]
    }
   ],
   "source": [
    "from hydra import core, initialize, compose\n",
    "from omegaconf import OmegaConf\n",
    "import torch\n",
    "\n",
    "device = torch.device('cpu')\n",
    "\n",
    "core.global_hydra.GlobalHydra.instance().clear()        # required for Hydra in notebooks\n",
    "\n",
    "initialize(config_path='../config')\n",
    "\n",
    "# Add additional command line overrides\n",
    "cfg = compose(\n",
    "    config_name='config', \n",
    "    overrides=[\n",
    "        'data.json_dir=../data/'\n",
    "    ]\n",
    ")\n",
    "\n",
    "# resolve config references\n",
    "# OmegaConf.resolve(cfg)\n",
    "\n",
    "print(list(cfg.keys()))"
   ]
  },
  {
   "cell_type": "code",
   "execution_count": 2,
   "metadata": {},
   "outputs": [
    {
     "data": {
      "text/plain": [
       "'../data/'"
      ]
     },
     "execution_count": 2,
     "metadata": {},
     "output_type": "execute_result"
    }
   ],
   "source": [
    "cfg['data']['json_dir']"
   ]
  },
  {
   "cell_type": "code",
   "execution_count": 3,
   "metadata": {},
   "outputs": [
    {
     "data": {
      "text/plain": [
       "True"
      ]
     },
     "execution_count": 3,
     "metadata": {},
     "output_type": "execute_result"
    }
   ],
   "source": [
    "torch.cuda.is_available()"
   ]
  },
  {
   "attachments": {},
   "cell_type": "markdown",
   "metadata": {},
   "source": [
    "### **Dataset Setup**"
   ]
  },
  {
   "cell_type": "code",
   "execution_count": 12,
   "metadata": {},
   "outputs": [
    {
     "name": "stdout",
     "output_type": "stream",
     "text": [
      "Loaded pretrained weights for efficientnet-b4\n"
     ]
    },
    {
     "data": {
      "text/plain": [
       "121"
      ]
     },
     "execution_count": 12,
     "metadata": {},
     "output_type": "execute_result"
    }
   ],
   "source": [
    "import torch\n",
    "import numpy as np\n",
    "\n",
    "from cross_view_transformer.common import setup_carla_experiment, load_backbone\n",
    "\n",
    "\n",
    "model_module, data_module = setup_carla_experiment(cfg)\n",
    "\n",
    "SUBSAMPLE = 10\n",
    "\n",
    "dataset = data_module.val_dataset\n",
    "# dataset = torch.utils.data.ConcatDataset(dataset)\n",
    "dataset = torch.utils.data.Subset(dataset, range(0, len(dataset), SUBSAMPLE))\n",
    "\n",
    "loader = torch.utils.data.DataLoader(dataset, batch_size=4, shuffle=False, num_workers=2)\n",
    "\n",
    "len(dataset)\n"
   ]
  },
  {
   "cell_type": "code",
   "execution_count": 13,
   "metadata": {},
   "outputs": [],
   "source": [
    "current = next(iter(loader))"
   ]
  },
  {
   "cell_type": "code",
   "execution_count": 14,
   "metadata": {},
   "outputs": [
    {
     "data": {
      "text/plain": [
       "torch.Size([4, 3, 500, 500])"
      ]
     },
     "execution_count": 14,
     "metadata": {},
     "output_type": "execute_result"
    }
   ],
   "source": [
    "current['bev'].shape  "
   ]
  },
  {
   "attachments": {},
   "cell_type": "markdown",
   "metadata": {},
   "source": [
    "### **Network Setup**"
   ]
  },
  {
   "cell_type": "code",
   "execution_count": 15,
   "metadata": {},
   "outputs": [
    {
     "name": "stdout",
     "output_type": "stream",
     "text": [
      "Loaded pretrained weights for efficientnet-b4\n",
      "found presaved\n"
     ]
    }
   ],
   "source": [
    "from pathlib import Path\n",
    "\n",
    "# Download a pretrained model (13 Mb)\n",
    "CHECKPOINT_PATH = '../logs/cross_view_transformers_road/0706_193619/checkpoints/model-v1.ckpt'\n",
    "\n",
    "if Path(CHECKPOINT_PATH).exists():\n",
    "    network = load_backbone(CHECKPOINT_PATH)\n",
    "    print(\"found presaved\")\n",
    "else:\n",
    "    network = model_module.backbone\n",
    "\n",
    "    print(f'{CHECKPOINT_PATH} not found. Using randomly initialized weights.')"
   ]
  },
  {
   "attachments": {},
   "cell_type": "markdown",
   "metadata": {},
   "source": [
    "### **Run the Model**\n",
    "\n",
    "This cell will save the model predictions and render them as a gif.\n",
    "\n",
    "Note: colors will be ugly since gif only supports 256 colors total"
   ]
  },
  {
   "cell_type": "code",
   "execution_count": 16,
   "metadata": {},
   "outputs": [],
   "source": [
    "# load IOU metric\n",
    "from cross_view_transformer.metrics import IoUMetric\n",
    "\n",
    "iou_metric = IoUMetric(label_indices=cfg.data.label_indices).to(device)\n"
   ]
  },
  {
   "cell_type": "code",
   "execution_count": 17,
   "metadata": {},
   "outputs": [
    {
     "data": {
      "text/plain": [
       "[[1, 2]]"
      ]
     },
     "execution_count": 17,
     "metadata": {},
     "output_type": "execute_result"
    }
   ],
   "source": [
    "cfg.data.label_indices"
   ]
  },
  {
   "cell_type": "code",
   "execution_count": 18,
   "metadata": {},
   "outputs": [
    {
     "name": "stderr",
     "output_type": "stream",
     "text": [
      "/home/dxa230028/.local/lib/python3.11/site-packages/torch/utils/checkpoint.py:31: UserWarning: None of the inputs have requires_grad=True. Gradients will be None\n",
      "  warnings.warn(\"None of the inputs have requires_grad=True. Gradients will be None\")\n"
     ]
    }
   ],
   "source": [
    "for batch in loader:\n",
    "    batch = {k: v.to(device) if torch.is_tensor(v) else v for k, v in batch.items()}\n",
    "    # Forward pass and compute predicted outputs\n",
    "    # try:\n",
    "    #     with torch.no_grad():\n",
    "    #         predicted_outputs = network(batch)['bev'].to(device)\n",
    "    # except RuntimeError:\n",
    "    #     devices = {k: v.device if torch.is_tensor(v) else 'not_tensor' for k, v in batch.items()}\n",
    "    with torch.no_grad():\n",
    "        predicted_outputs = network(batch)['bev'].to(device)\n",
    "\n",
    "    # Update the IoU metric\n",
    "    iou_metric.update(predicted_outputs, batch)"
   ]
  },
  {
   "cell_type": "code",
   "execution_count": 21,
   "metadata": {},
   "outputs": [],
   "source": [
    "iou_values = iou_metric.compute()\n",
    "\n",
    "iou_040 = iou_values['@0.40']\n",
    "iou_050 = iou_values['@0.50']"
   ]
  },
  {
   "cell_type": "code",
   "execution_count": 22,
   "metadata": {},
   "outputs": [
    {
     "name": "stdout",
     "output_type": "stream",
     "text": [
      "Val IoUs for road segmentation\n",
      "For Threshold 0.40: 0.9582176804542542\n",
      "For Threshold 0.50: 0.9617186188697815\n"
     ]
    }
   ],
   "source": [
    "print(\"Val IoUs for road segmentation\")\n",
    "print(f\"For Threshold 0.40: {iou_040}\")\n",
    "print(f\"For Threshold 0.50: {iou_050}\")"
   ]
  },
  {
   "cell_type": "code",
   "execution_count": null,
   "metadata": {},
   "outputs": [],
   "source": []
  }
 ],
 "metadata": {
  "interpreter": {
   "hash": "b5f5dfcf6d7848e0c3dac37df27b69d0d5f79a0c0f03f8729db3afb13fab9666"
  },
  "kernelspec": {
   "display_name": "Python 3.8.12 ('bev_transformer_release')",
   "language": "python",
   "name": "python3"
  },
  "language_info": {
   "codemirror_mode": {
    "name": "ipython",
    "version": 3
   },
   "file_extension": ".py",
   "mimetype": "text/x-python",
   "name": "python",
   "nbconvert_exporter": "python",
   "pygments_lexer": "ipython3",
   "version": "3.11.4"
  },
  "orig_nbformat": 4
 },
 "nbformat": 4,
 "nbformat_minor": 2
}
